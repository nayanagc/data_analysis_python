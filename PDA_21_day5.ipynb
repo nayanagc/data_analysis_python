{
 "cells": [
  {
   "cell_type": "markdown",
   "id": "33d9af12-69a4-40e6-b210-6bbd84d3b7b4",
   "metadata": {},
   "source": [
    "# Machine learnig "
   ]
  },
  {
   "cell_type": "markdown",
   "id": "3ac83cc8-7ea0-469f-9bff-0836835bee77",
   "metadata": {},
   "source": [
    "# Linear regression"
   ]
  },
  {
   "cell_type": "markdown",
   "id": "8f5ca956-7fce-4b02-a985-e91dca9df82a",
   "metadata": {},
   "source": [
    "* y = a + bx + b1 x1 + b2 x2 .......\n",
    "* y => dependent / target (1) [1D]\n",
    "* x => independent / features (n) [2D]"
   ]
  },
  {
   "cell_type": "code",
   "execution_count": 18,
   "id": "624d8e4a-f0ab-4de8-ac65-0c9601577116",
   "metadata": {},
   "outputs": [],
   "source": [
    "from sklearn.linear_model import LinearRegression\n",
    "import numpy as np\n",
    "from sklearn.metrics import r2_score, mean_absolute_error,mean_squared_error"
   ]
  },
  {
   "cell_type": "code",
   "execution_count": 64,
   "id": "45b50187-13ac-4ce6-b86b-5e201c442f64",
   "metadata": {},
   "outputs": [],
   "source": [
    "#independent\n",
    "time=np.array([5,7,12,16,20]).reshape(-1,1)"
   ]
  },
  {
   "cell_type": "code",
   "execution_count": 5,
   "id": "ede66047-a776-4731-9e76-2ec527c14ef1",
   "metadata": {},
   "outputs": [],
   "source": [
    "#dependent\n",
    "mass=np.array([40,120,180,210,240])"
   ]
  },
  {
   "cell_type": "code",
   "execution_count": 6,
   "id": "73fce1eb-84aa-40b2-aed7-9096c115742d",
   "metadata": {},
   "outputs": [],
   "source": [
    "mymodel = LinearRegression()"
   ]
  },
  {
   "cell_type": "code",
   "execution_count": 8,
   "id": "57e5abf5-2578-43df-af05-98aa48a2af74",
   "metadata": {},
   "outputs": [
    {
     "data": {
      "text/html": [
       "<style>#sk-container-id-1 {color: black;background-color: white;}#sk-container-id-1 pre{padding: 0;}#sk-container-id-1 div.sk-toggleable {background-color: white;}#sk-container-id-1 label.sk-toggleable__label {cursor: pointer;display: block;width: 100%;margin-bottom: 0;padding: 0.3em;box-sizing: border-box;text-align: center;}#sk-container-id-1 label.sk-toggleable__label-arrow:before {content: \"▸\";float: left;margin-right: 0.25em;color: #696969;}#sk-container-id-1 label.sk-toggleable__label-arrow:hover:before {color: black;}#sk-container-id-1 div.sk-estimator:hover label.sk-toggleable__label-arrow:before {color: black;}#sk-container-id-1 div.sk-toggleable__content {max-height: 0;max-width: 0;overflow: hidden;text-align: left;background-color: #f0f8ff;}#sk-container-id-1 div.sk-toggleable__content pre {margin: 0.2em;color: black;border-radius: 0.25em;background-color: #f0f8ff;}#sk-container-id-1 input.sk-toggleable__control:checked~div.sk-toggleable__content {max-height: 200px;max-width: 100%;overflow: auto;}#sk-container-id-1 input.sk-toggleable__control:checked~label.sk-toggleable__label-arrow:before {content: \"▾\";}#sk-container-id-1 div.sk-estimator input.sk-toggleable__control:checked~label.sk-toggleable__label {background-color: #d4ebff;}#sk-container-id-1 div.sk-label input.sk-toggleable__control:checked~label.sk-toggleable__label {background-color: #d4ebff;}#sk-container-id-1 input.sk-hidden--visually {border: 0;clip: rect(1px 1px 1px 1px);clip: rect(1px, 1px, 1px, 1px);height: 1px;margin: -1px;overflow: hidden;padding: 0;position: absolute;width: 1px;}#sk-container-id-1 div.sk-estimator {font-family: monospace;background-color: #f0f8ff;border: 1px dotted black;border-radius: 0.25em;box-sizing: border-box;margin-bottom: 0.5em;}#sk-container-id-1 div.sk-estimator:hover {background-color: #d4ebff;}#sk-container-id-1 div.sk-parallel-item::after {content: \"\";width: 100%;border-bottom: 1px solid gray;flex-grow: 1;}#sk-container-id-1 div.sk-label:hover label.sk-toggleable__label {background-color: #d4ebff;}#sk-container-id-1 div.sk-serial::before {content: \"\";position: absolute;border-left: 1px solid gray;box-sizing: border-box;top: 0;bottom: 0;left: 50%;z-index: 0;}#sk-container-id-1 div.sk-serial {display: flex;flex-direction: column;align-items: center;background-color: white;padding-right: 0.2em;padding-left: 0.2em;position: relative;}#sk-container-id-1 div.sk-item {position: relative;z-index: 1;}#sk-container-id-1 div.sk-parallel {display: flex;align-items: stretch;justify-content: center;background-color: white;position: relative;}#sk-container-id-1 div.sk-item::before, #sk-container-id-1 div.sk-parallel-item::before {content: \"\";position: absolute;border-left: 1px solid gray;box-sizing: border-box;top: 0;bottom: 0;left: 50%;z-index: -1;}#sk-container-id-1 div.sk-parallel-item {display: flex;flex-direction: column;z-index: 1;position: relative;background-color: white;}#sk-container-id-1 div.sk-parallel-item:first-child::after {align-self: flex-end;width: 50%;}#sk-container-id-1 div.sk-parallel-item:last-child::after {align-self: flex-start;width: 50%;}#sk-container-id-1 div.sk-parallel-item:only-child::after {width: 0;}#sk-container-id-1 div.sk-dashed-wrapped {border: 1px dashed gray;margin: 0 0.4em 0.5em 0.4em;box-sizing: border-box;padding-bottom: 0.4em;background-color: white;}#sk-container-id-1 div.sk-label label {font-family: monospace;font-weight: bold;display: inline-block;line-height: 1.2em;}#sk-container-id-1 div.sk-label-container {text-align: center;}#sk-container-id-1 div.sk-container {/* jupyter's `normalize.less` sets `[hidden] { display: none; }` but bootstrap.min.css set `[hidden] { display: none !important; }` so we also need the `!important` here to be able to override the default hidden behavior on the sphinx rendered scikit-learn.org. See: https://github.com/scikit-learn/scikit-learn/issues/21755 */display: inline-block !important;position: relative;}#sk-container-id-1 div.sk-text-repr-fallback {display: none;}</style><div id=\"sk-container-id-1\" class=\"sk-top-container\"><div class=\"sk-text-repr-fallback\"><pre>LinearRegression()</pre><b>In a Jupyter environment, please rerun this cell to show the HTML representation or trust the notebook. <br />On GitHub, the HTML representation is unable to render, please try loading this page with nbviewer.org.</b></div><div class=\"sk-container\" hidden><div class=\"sk-item\"><div class=\"sk-estimator sk-toggleable\"><input class=\"sk-toggleable__control sk-hidden--visually\" id=\"sk-estimator-id-1\" type=\"checkbox\" checked><label for=\"sk-estimator-id-1\" class=\"sk-toggleable__label sk-toggleable__label-arrow\">LinearRegression</label><div class=\"sk-toggleable__content\"><pre>LinearRegression()</pre></div></div></div></div></div>"
      ],
      "text/plain": [
       "LinearRegression()"
      ]
     },
     "execution_count": 8,
     "metadata": {},
     "output_type": "execute_result"
    }
   ],
   "source": [
    "#fit-used to trains  the model\n",
    "mymodel.fit(time,mass)"
   ]
  },
  {
   "cell_type": "code",
   "execution_count": 11,
   "id": "eb95b492-ff4a-4824-a3f2-54211a7ac150",
   "metadata": {},
   "outputs": [
    {
     "name": "stdin",
     "output_type": "stream",
     "text": [
      "Enter the time in minutes :  4\n"
     ]
    },
    {
     "name": "stdout",
     "output_type": "stream",
     "text": [
      "if the time is  4  minutes the mass is  60.33766233766232  grams \n"
     ]
    }
   ],
   "source": [
    "x=int(input(\"Enter the time in minutes : \"))\n",
    "result = mymodel.predict([[x]])#predict ehich predict the output ,passing int var (time 2D)\n",
    "print(\"if the time is \",x,\" minutes the mass is \",result[0],\" grams \")"
   ]
  },
  {
   "cell_type": "code",
   "execution_count": 12,
   "id": "56a4c8d1-1ded-4e8e-a978-369bdc671de8",
   "metadata": {},
   "outputs": [
    {
     "name": "stdout",
     "output_type": "stream",
     "text": [
      "[ 72.54545455  96.96103896 158.         206.83116883 255.66233766]\n"
     ]
    }
   ],
   "source": [
    "mass_model = mymodel.predict(time)\n",
    "print(mass_model)"
   ]
  },
  {
   "cell_type": "code",
   "execution_count": 14,
   "id": "03a030c0-9709-4efe-8c3e-0211f51005c9",
   "metadata": {},
   "outputs": [
    {
     "data": {
      "image/png": "[encoded data removed]",
      "text/plain": [
       "<Figure size 600x500 with 1 Axes>"
      ]
     },
     "metadata": {},
     "output_type": "display_data"
    }
   ],
   "source": [
    "#plotting original values - scatter \n",
    "import matplotlib.pyplot as plt\n",
    "plt.figure(figsize=(6,5))\n",
    "plt.scatter(time,mass,label='original',color='hotpink')\n",
    "#plotting predict values in lines \n",
    "plt.plot(time,mass_model,label='predict',color='k')\n",
    "plt.legend()\n",
    "plt.show()"
   ]
  },
  {
   "cell_type": "markdown",
   "id": "09d293be-8b0a-48ae-aa37-72cbd2babc38",
   "metadata": {},
   "source": [
    "Libraries -> load data -> split data -> create & train -> test -> Evaluate\n",
    "\n",
    "split-  train  predict"
   ]
  },
  {
   "cell_type": "markdown",
   "id": "8fdd7350-b047-4ea9-8216-40238c5939ee",
   "metadata": {},
   "source": [
    "Evaluation : \n",
    "R-square\n",
    "- Lower , the better "
   ]
  },
  {
   "cell_type": "code",
   "execution_count": 89,
   "id": "6feeb31d-8fb8-45df-bdbf-a5efd76725dc",
   "metadata": {},
   "outputs": [
    {
     "name": "stdout",
     "output_type": "stream",
     "text": [
      "0.9078579648199901\n"
     ]
    }
   ],
   "source": [
    "r2s = r2_score(mass,mass_model)\n",
    "print(r2s)#result is more than 0.5 then the result prediction are good"
   ]
  },
  {
   "cell_type": "markdown",
   "id": "acb74f7f-0505-46ee-b317-5d4ced6f3712",
   "metadata": {},
   "source": [
    "MSE\n",
    "- lower the better "
   ]
  },
  {
   "cell_type": "code",
   "execution_count": 90,
   "id": "9a352de7-b68b-4cb7-8497-20ca72064d44",
   "metadata": {},
   "outputs": [
    {
     "name": "stdout",
     "output_type": "stream",
     "text": [
      "465.87012987012986\n"
     ]
    }
   ],
   "source": [
    "mse = mean_squared_error(mass,mass_model)\n",
    "print(mse)#biggest values in that"
   ]
  },
  {
   "cell_type": "markdown",
   "id": "675c05aa-85f9-4b1a-977e-bc36a300aebb",
   "metadata": {},
   "source": [
    "MAE"
   ]
  },
  {
   "cell_type": "markdown",
   "id": "25002c7b-1ca4-47f2-8d23-7111b7b86557",
   "metadata": {},
   "source": [
    "* lower the better "
   ]
  },
  {
   "cell_type": "code",
   "execution_count": 92,
   "id": "cc982457-2498-440f-8f27-032c09d0318d",
   "metadata": {},
   "outputs": [
    {
     "name": "stdout",
     "output_type": "stream",
     "text": [
      "19.283116883116882\n"
     ]
    }
   ],
   "source": [
    "mae = mean_absolute_error(mass,mass_model)\n",
    "print(mae)"
   ]
  },
  {
   "cell_type": "markdown",
   "id": "70a3713d-b743-4894-b65b-efbf3b73ed19",
   "metadata": {},
   "source": [
    "linear regression on large data , only accepects the numerical values"
   ]
  },
  {
   "cell_type": "markdown",
   "id": "573b4a0b-9bfb-4521-a12d-8eb2e53a2170",
   "metadata": {},
   "source": [
    "case study : predicting the salary from age ,experiance,genedr ,education "
   ]
  },
  {
   "cell_type": "markdown",
   "id": "487bd407-bca9-48c6-8a67-df2889b6f2e0",
   "metadata": {},
   "source": [
    "1. import libraries \n",
    "2. load data\n",
    "3. clean data(nulls , duplicates)\n",
    "4. preprocessing\n",
    "5. split data \n",
    "6. create and train model \n",
    "7. test the model\n",
    "8. Evaluation"
   ]
  },
  {
   "cell_type": "markdown",
   "id": "a39117a9-b1fb-4d41-a0a2-41e7c82e15eb",
   "metadata": {},
   "source": [
    "1. importing the libraries"
   ]
  },
  {
   "cell_type": "code",
   "execution_count": 65,
   "id": "70acd2b1-9dca-4b96-af28-5de3c898ef2a",
   "metadata": {},
   "outputs": [],
   "source": [
    "import pandas as pd \n",
    "import numpy as np \n",
    "import matplotlib.pyplot as plt \n",
    "import seaborn as sns\n",
    "from sklearn.preprocessing import LabelEncoder\n",
    "from sklearn.linear_model import LinearRegression\n",
    "from sklearn.metrics import r2_score , mean_absolute_error , mean_squared_error \n",
    "from sklearn.model_selection import train_test_split"
   ]
  },
  {
   "cell_type": "markdown",
   "id": "991e6830-e013-4fb8-9bb5-ff1f17124b56",
   "metadata": {},
   "source": [
    "load the data"
   ]
  },
  {
   "cell_type": "code",
   "execution_count": 66,
   "id": "ce720d7b-1ed4-497f-bb10-6a2f51532fbf",
   "metadata": {},
   "outputs": [
    {
     "data": {
      "text/html": [
       "<div>\n",
       "<style scoped>\n",
       "    .dataframe tbody tr th:only-of-type {\n",
       "        vertical-align: middle;\n",
       "    }\n",
       "\n",
       "    .dataframe tbody tr th {\n",
       "        vertical-align: top;\n",
       "    }\n",
       "\n",
       "    .dataframe thead th {\n",
       "        text-align: right;\n",
       "    }\n",
       "</style>\n",
       "<table border=\"1\" class=\"dataframe\">\n",
       "  <thead>\n",
       "    <tr style=\"text-align: right;\">\n",
       "      <th></th>\n",
       "      <th>Age</th>\n",
       "      <th>Gender</th>\n",
       "      <th>Education Level</th>\n",
       "      <th>Job Title</th>\n",
       "      <th>Years of Experience</th>\n",
       "      <th>Salary</th>\n",
       "    </tr>\n",
       "  </thead>\n",
       "  <tbody>\n",
       "    <tr>\n",
       "      <th>0</th>\n",
       "      <td>32.0</td>\n",
       "      <td>Male</td>\n",
       "      <td>Bachelor's</td>\n",
       "      <td>Software Engineer</td>\n",
       "      <td>5.0</td>\n",
       "      <td>90000.0</td>\n",
       "    </tr>\n",
       "    <tr>\n",
       "      <th>1</th>\n",
       "      <td>28.0</td>\n",
       "      <td>Female</td>\n",
       "      <td>Master's</td>\n",
       "      <td>Data Analyst</td>\n",
       "      <td>3.0</td>\n",
       "      <td>65000.0</td>\n",
       "    </tr>\n",
       "    <tr>\n",
       "      <th>2</th>\n",
       "      <td>45.0</td>\n",
       "      <td>Male</td>\n",
       "      <td>PhD</td>\n",
       "      <td>Senior Manager</td>\n",
       "      <td>15.0</td>\n",
       "      <td>150000.0</td>\n",
       "    </tr>\n",
       "    <tr>\n",
       "      <th>3</th>\n",
       "      <td>36.0</td>\n",
       "      <td>Female</td>\n",
       "      <td>Bachelor's</td>\n",
       "      <td>Sales Associate</td>\n",
       "      <td>7.0</td>\n",
       "      <td>60000.0</td>\n",
       "    </tr>\n",
       "    <tr>\n",
       "      <th>4</th>\n",
       "      <td>36.0</td>\n",
       "      <td>Female</td>\n",
       "      <td>Bachelor's</td>\n",
       "      <td>Sales Associate</td>\n",
       "      <td>7.0</td>\n",
       "      <td>60000.0</td>\n",
       "    </tr>\n",
       "  </tbody>\n",
       "</table>\n",
       "</div>"
      ],
      "text/plain": [
       "    Age  Gender Education Level          Job Title  Years of Experience  \\\n",
       "0  32.0    Male      Bachelor's  Software Engineer                  5.0   \n",
       "1  28.0  Female        Master's       Data Analyst                  3.0   \n",
       "2  45.0    Male             PhD     Senior Manager                 15.0   \n",
       "3  36.0  Female      Bachelor's    Sales Associate                  7.0   \n",
       "4  36.0  Female      Bachelor's    Sales Associate                  7.0   \n",
       "\n",
       "     Salary  \n",
       "0   90000.0  \n",
       "1   65000.0  \n",
       "2  150000.0  \n",
       "3   60000.0  \n",
       "4   60000.0  "
      ]
     },
     "execution_count": 66,
     "metadata": {},
     "output_type": "execute_result"
    }
   ],
   "source": [
    "df=pd.read_csv(r\"C:\\Users\\DELL\\Downloads\\my_python\\Salary_EDA.csv\")\n",
    "df.head()"
   ]
  },
  {
   "cell_type": "markdown",
   "id": "be80f797-6e58-40f4-99ac-4164a36866a9",
   "metadata": {},
   "source": [
    "clean data "
   ]
  },
  {
   "cell_type": "code",
   "execution_count": 67,
   "id": "e05f9563-afcd-488f-b7fc-c81abd00c05a",
   "metadata": {},
   "outputs": [
    {
     "data": {
      "text/plain": [
       "Age                    2\n",
       "Gender                 4\n",
       "Education Level        3\n",
       "Job Title              5\n",
       "Years of Experience    2\n",
       "Salary                 3\n",
       "dtype: int64"
      ]
     },
     "execution_count": 67,
     "metadata": {},
     "output_type": "execute_result"
    }
   ],
   "source": [
    "df.isnull().sum()"
   ]
  },
  {
   "cell_type": "code",
   "execution_count": 68,
   "id": "c352ed1a-cf5b-41fa-b41d-d0c072b0e6d5",
   "metadata": {},
   "outputs": [
    {
     "data": {
      "text/plain": [
       "Age                    0\n",
       "Gender                 0\n",
       "Education Level        0\n",
       "Job Title              0\n",
       "Years of Experience    0\n",
       "Salary                 0\n",
       "dtype: int64"
      ]
     },
     "execution_count": 68,
     "metadata": {},
     "output_type": "execute_result"
    }
   ],
   "source": [
    "df.dropna(inplace = True )\n",
    "df.isnull().sum()"
   ]
  },
  {
   "cell_type": "markdown",
   "id": "c6a2790e-1061-48e9-a25a-d435548820df",
   "metadata": {},
   "source": [
    "data preprocessing "
   ]
  },
  {
   "cell_type": "code",
   "execution_count": 69,
   "id": "238d7d1d-8629-45bd-a629-ec31b3c31a18",
   "metadata": {},
   "outputs": [
    {
     "data": {
      "text/html": [
       "<div>\n",
       "<style scoped>\n",
       "    .dataframe tbody tr th:only-of-type {\n",
       "        vertical-align: middle;\n",
       "    }\n",
       "\n",
       "    .dataframe tbody tr th {\n",
       "        vertical-align: top;\n",
       "    }\n",
       "\n",
       "    .dataframe thead th {\n",
       "        text-align: right;\n",
       "    }\n",
       "</style>\n",
       "<table border=\"1\" class=\"dataframe\">\n",
       "  <thead>\n",
       "    <tr style=\"text-align: right;\">\n",
       "      <th></th>\n",
       "      <th>Age</th>\n",
       "      <th>Gender</th>\n",
       "      <th>Education Level</th>\n",
       "      <th>Job Title</th>\n",
       "      <th>Years of Experience</th>\n",
       "      <th>Salary</th>\n",
       "      <th>gendercode</th>\n",
       "      <th>edu_code</th>\n",
       "    </tr>\n",
       "  </thead>\n",
       "  <tbody>\n",
       "    <tr>\n",
       "      <th>0</th>\n",
       "      <td>32.0</td>\n",
       "      <td>Male</td>\n",
       "      <td>Bachelor's</td>\n",
       "      <td>Software Engineer</td>\n",
       "      <td>5.0</td>\n",
       "      <td>90000.0</td>\n",
       "      <td>1</td>\n",
       "      <td>0</td>\n",
       "    </tr>\n",
       "    <tr>\n",
       "      <th>1</th>\n",
       "      <td>28.0</td>\n",
       "      <td>Female</td>\n",
       "      <td>Master's</td>\n",
       "      <td>Data Analyst</td>\n",
       "      <td>3.0</td>\n",
       "      <td>65000.0</td>\n",
       "      <td>0</td>\n",
       "      <td>1</td>\n",
       "    </tr>\n",
       "    <tr>\n",
       "      <th>2</th>\n",
       "      <td>45.0</td>\n",
       "      <td>Male</td>\n",
       "      <td>PhD</td>\n",
       "      <td>Senior Manager</td>\n",
       "      <td>15.0</td>\n",
       "      <td>150000.0</td>\n",
       "      <td>1</td>\n",
       "      <td>2</td>\n",
       "    </tr>\n",
       "    <tr>\n",
       "      <th>3</th>\n",
       "      <td>36.0</td>\n",
       "      <td>Female</td>\n",
       "      <td>Bachelor's</td>\n",
       "      <td>Sales Associate</td>\n",
       "      <td>7.0</td>\n",
       "      <td>60000.0</td>\n",
       "      <td>0</td>\n",
       "      <td>0</td>\n",
       "    </tr>\n",
       "    <tr>\n",
       "      <th>4</th>\n",
       "      <td>36.0</td>\n",
       "      <td>Female</td>\n",
       "      <td>Bachelor's</td>\n",
       "      <td>Sales Associate</td>\n",
       "      <td>7.0</td>\n",
       "      <td>60000.0</td>\n",
       "      <td>0</td>\n",
       "      <td>0</td>\n",
       "    </tr>\n",
       "  </tbody>\n",
       "</table>\n",
       "</div>"
      ],
      "text/plain": [
       "    Age  Gender Education Level          Job Title  Years of Experience  \\\n",
       "0  32.0    Male      Bachelor's  Software Engineer                  5.0   \n",
       "1  28.0  Female        Master's       Data Analyst                  3.0   \n",
       "2  45.0    Male             PhD     Senior Manager                 15.0   \n",
       "3  36.0  Female      Bachelor's    Sales Associate                  7.0   \n",
       "4  36.0  Female      Bachelor's    Sales Associate                  7.0   \n",
       "\n",
       "     Salary  gendercode  edu_code  \n",
       "0   90000.0           1         0  \n",
       "1   65000.0           0         1  \n",
       "2  150000.0           1         2  \n",
       "3   60000.0           0         0  \n",
       "4   60000.0           0         0  "
      ]
     },
     "execution_count": 69,
     "metadata": {},
     "output_type": "execute_result"
    }
   ],
   "source": [
    "ge=LabelEncoder()\n",
    "df['gendercode']=ge.fit_transform(df['Gender'])\n",
    "#encoding edu_level\n",
    "edu=LabelEncoder()\n",
    "df['edu_code']=edu.fit_transform(df['Education Level'])\n",
    "df.head()"
   ]
  },
  {
   "cell_type": "markdown",
   "id": "c6c74669-7dc0-4a0e-bdba-98d9128478e6",
   "metadata": {},
   "source": [
    "split the data into independent and dependent "
   ]
  },
  {
   "cell_type": "code",
   "execution_count": 70,
   "id": "36b3ebf3-9077-45f2-a835-e5d1e5f8042d",
   "metadata": {},
   "outputs": [],
   "source": [
    "# x- independent , y- dependent \n",
    "x = df[['Age','gendercode','edu_code','Years of Experience']] # [ 2D]\n",
    "y = df['Salary'] # [1D]"
   ]
  },
  {
   "cell_type": "markdown",
   "id": "e08dd11d-1834-43f1-9864-b6ecb8c7f32b",
   "metadata": {},
   "source": [
    "split the data into train and test"
   ]
  },
  {
   "cell_type": "code",
   "execution_count": 71,
   "id": "a1a00b34-7b7c-4b90-9b75-2b0d42bdfbb7",
   "metadata": {},
   "outputs": [],
   "source": [
    "x_train , x_test , y_train , y_test = train_test_split(x,y,test_size=0.2, random_state = 42 )\n",
    "#total 700 records\n",
    "#x_train - 560(age ,edu,gen), train  paper \n",
    "#x_test - 140(age,edu,gen), question paper\n",
    "#y_train - 560(sal),train paper answer\n",
    "#y_test - 140(sal) , answer paper                                             "
   ]
  },
  {
   "cell_type": "markdown",
   "id": "35dc0785-9c16-410a-bea2-1499361d4a02",
   "metadata": {},
   "source": [
    "create a model and train"
   ]
  },
  {
   "cell_type": "code",
   "execution_count": 72,
   "id": "47a070c8-1a8a-481a-8c20-c5bfcd51c7a4",
   "metadata": {},
   "outputs": [
    {
     "data": {
      "text/html": [
       "<style>#sk-container-id-4 {color: black;background-color: white;}#sk-container-id-4 pre{padding: 0;}#sk-container-id-4 div.sk-toggleable {background-color: white;}#sk-container-id-4 label.sk-toggleable__label {cursor: pointer;display: block;width: 100%;margin-bottom: 0;padding: 0.3em;box-sizing: border-box;text-align: center;}#sk-container-id-4 label.sk-toggleable__label-arrow:before {content: \"▸\";float: left;margin-right: 0.25em;color: #696969;}#sk-container-id-4 label.sk-toggleable__label-arrow:hover:before {color: black;}#sk-container-id-4 div.sk-estimator:hover label.sk-toggleable__label-arrow:before {color: black;}#sk-container-id-4 div.sk-toggleable__content {max-height: 0;max-width: 0;overflow: hidden;text-align: left;background-color: #f0f8ff;}#sk-container-id-4 div.sk-toggleable__content pre {margin: 0.2em;color: black;border-radius: 0.25em;background-color: #f0f8ff;}#sk-container-id-4 input.sk-toggleable__control:checked~div.sk-toggleable__content {max-height: 200px;max-width: 100%;overflow: auto;}#sk-container-id-4 input.sk-toggleable__control:checked~label.sk-toggleable__label-arrow:before {content: \"▾\";}#sk-container-id-4 div.sk-estimator input.sk-toggleable__control:checked~label.sk-toggleable__label {background-color: #d4ebff;}#sk-container-id-4 div.sk-label input.sk-toggleable__control:checked~label.sk-toggleable__label {background-color: #d4ebff;}#sk-container-id-4 input.sk-hidden--visually {border: 0;clip: rect(1px 1px 1px 1px);clip: rect(1px, 1px, 1px, 1px);height: 1px;margin: -1px;overflow: hidden;padding: 0;position: absolute;width: 1px;}#sk-container-id-4 div.sk-estimator {font-family: monospace;background-color: #f0f8ff;border: 1px dotted black;border-radius: 0.25em;box-sizing: border-box;margin-bottom: 0.5em;}#sk-container-id-4 div.sk-estimator:hover {background-color: #d4ebff;}#sk-container-id-4 div.sk-parallel-item::after {content: \"\";width: 100%;border-bottom: 1px solid gray;flex-grow: 1;}#sk-container-id-4 div.sk-label:hover label.sk-toggleable__label {background-color: #d4ebff;}#sk-container-id-4 div.sk-serial::before {content: \"\";position: absolute;border-left: 1px solid gray;box-sizing: border-box;top: 0;bottom: 0;left: 50%;z-index: 0;}#sk-container-id-4 div.sk-serial {display: flex;flex-direction: column;align-items: center;background-color: white;padding-right: 0.2em;padding-left: 0.2em;position: relative;}#sk-container-id-4 div.sk-item {position: relative;z-index: 1;}#sk-container-id-4 div.sk-parallel {display: flex;align-items: stretch;justify-content: center;background-color: white;position: relative;}#sk-container-id-4 div.sk-item::before, #sk-container-id-4 div.sk-parallel-item::before {content: \"\";position: absolute;border-left: 1px solid gray;box-sizing: border-box;top: 0;bottom: 0;left: 50%;z-index: -1;}#sk-container-id-4 div.sk-parallel-item {display: flex;flex-direction: column;z-index: 1;position: relative;background-color: white;}#sk-container-id-4 div.sk-parallel-item:first-child::after {align-self: flex-end;width: 50%;}#sk-container-id-4 div.sk-parallel-item:last-child::after {align-self: flex-start;width: 50%;}#sk-container-id-4 div.sk-parallel-item:only-child::after {width: 0;}#sk-container-id-4 div.sk-dashed-wrapped {border: 1px dashed gray;margin: 0 0.4em 0.5em 0.4em;box-sizing: border-box;padding-bottom: 0.4em;background-color: white;}#sk-container-id-4 div.sk-label label {font-family: monospace;font-weight: bold;display: inline-block;line-height: 1.2em;}#sk-container-id-4 div.sk-label-container {text-align: center;}#sk-container-id-4 div.sk-container {/* jupyter's `normalize.less` sets `[hidden] { display: none; }` but bootstrap.min.css set `[hidden] { display: none !important; }` so we also need the `!important` here to be able to override the default hidden behavior on the sphinx rendered scikit-learn.org. See: https://github.com/scikit-learn/scikit-learn/issues/21755 */display: inline-block !important;position: relative;}#sk-container-id-4 div.sk-text-repr-fallback {display: none;}</style><div id=\"sk-container-id-4\" class=\"sk-top-container\"><div class=\"sk-text-repr-fallback\"><pre>LinearRegression()</pre><b>In a Jupyter environment, please rerun this cell to show the HTML representation or trust the notebook. <br />On GitHub, the HTML representation is unable to render, please try loading this page with nbviewer.org.</b></div><div class=\"sk-container\" hidden><div class=\"sk-item\"><div class=\"sk-estimator sk-toggleable\"><input class=\"sk-toggleable__control sk-hidden--visually\" id=\"sk-estimator-id-4\" type=\"checkbox\" checked><label for=\"sk-estimator-id-4\" class=\"sk-toggleable__label sk-toggleable__label-arrow\">LinearRegression</label><div class=\"sk-toggleable__content\"><pre>LinearRegression()</pre></div></div></div></div></div>"
      ],
      "text/plain": [
       "LinearRegression()"
      ]
     },
     "execution_count": 72,
     "metadata": {},
     "output_type": "execute_result"
    }
   ],
   "source": [
    "sal_model = LinearRegression()\n",
    "sal_model.fit(x_train,y_train)"
   ]
  },
  {
   "cell_type": "markdown",
   "id": "f9871a66-a56a-43e9-a834-0dc68541c0aa",
   "metadata": {},
   "source": [
    "Test"
   ]
  },
  {
   "cell_type": "code",
   "execution_count": 80,
   "id": "240bae44-38ac-4eca-ab85-b7e55a185c57",
   "metadata": {},
   "outputs": [
    {
     "name": "stdin",
     "output_type": "stream",
     "text": [
      "enter the age 45\n",
      "enter your gender(Male,Female) : Male\n",
      " enter your education level (Bachelor's,Master's,PhD):  PhD\n",
      "enter your experiance in your : 8\n"
     ]
    }
   ],
   "source": [
    "a=float(input(\"enter the age\"))\n",
    "g_user= input(\"enter your gender(Male,Female) :\")\n",
    "ed_user= input(\" enter your education level (Bachelor's,Master's,PhD): \")\n",
    "exp= float(input(\"enter your experiance in your :\"))"
   ]
  },
  {
   "cell_type": "code",
   "execution_count": 81,
   "id": "f3e77ac8-8351-4397-90c0-3c651a08fc44",
   "metadata": {},
   "outputs": [
    {
     "name": "stdout",
     "output_type": "stream",
     "text": [
      "1 2\n"
     ]
    }
   ],
   "source": [
    "gen_enc=ge.transform([g_user])[0]\n",
    "edu_enc=edu.transform([ed_user])[0]\n",
    "print(gen_enc,edu_enc)"
   ]
  },
  {
   "cell_type": "code",
   "execution_count": 84,
   "id": "584fe8fb-e22c-41e1-8dac-4c5c9e0c4273",
   "metadata": {},
   "outputs": [
    {
     "name": "stdout",
     "output_type": "stream",
     "text": [
      "the predivted salary is :  136557.9697061547\n"
     ]
    },
    {
     "name": "stderr",
     "output_type": "stream",
     "text": [
      "C:\\ProgramData\\anaconda3\\Lib\\site-packages\\sklearn\\base.py:439: UserWarning: X does not have valid feature names, but LinearRegression was fitted with feature names\n",
      "  warnings.warn(\n"
     ]
    }
   ],
   "source": [
    "result=sal_model.predict([[a,gen_enc,edu_enc,exp]])\n",
    "print(\"the predivted salary is : \",result[0])"
   ]
  },
  {
   "cell_type": "markdown",
   "id": "2f9bde88-304e-4cec-a3a8-33c8158c0960",
   "metadata": {},
   "source": [
    "# Evaluation \n",
    "* predict test values\n",
    "* visulaize\n",
    "* metrics"
   ]
  },
  {
   "cell_type": "code",
   "execution_count": 95,
   "id": "9571e0ea-3697-4862-a5c8-f01cef088615",
   "metadata": {},
   "outputs": [],
   "source": [
    "model_p= sal_model.predict(x_test)"
   ]
  },
  {
   "cell_type": "code",
   "execution_count": 93,
   "id": "96b27fd4-8256-459f-8a33-d2092f678343",
   "metadata": {},
   "outputs": [
    {
     "data": {
      "text/plain": [
       "74"
      ]
     },
     "execution_count": 93,
     "metadata": {},
     "output_type": "execute_result"
    }
   ],
   "source": [
    "len(y_test)"
   ]
  },
  {
   "cell_type": "code",
   "execution_count": 97,
   "id": "6cf6d934-18f3-42b4-8a80-e535807f2905",
   "metadata": {},
   "outputs": [
    {
     "data": {
      "image/png": "[encoded data removed]",
      "text/plain": [
       "<Figure size 600x500 with 1 Axes>"
      ]
     },
     "metadata": {},
     "output_type": "display_data"
    }
   ],
   "source": [
    "#plotting original values\n",
    "import matplotlib.pyplot as plt\n",
    "plt.figure(figsize=(6,5))\n",
    "plt.plot(np.arange(1,75),y_test,label='original',color='hotpink')\n",
    "#plotting predict values in lines \n",
    "plt.plot(np.arange(1,75),model_p,label='predict',color='k')\n",
    "plt.title(\"salary prediction\")\n",
    "plt.legend()\n",
    "plt.show()"
   ]
  },
  {
   "cell_type": "code",
   "execution_count": null,
   "id": "64b96aea-a5b0-4d9b-b759-5f83037c76d6",
   "metadata": {},
   "outputs": [],
   "source": []
  }
 ],
 "metadata": {
  "kernelspec": {
   "display_name": "Python 3 (ipykernel)",
   "language": "python",
   "name": "python3"
  },
  "language_info": {
   "codemirror_mode": {
    "name": "ipython",
    "version": 3
   },
   "file_extension": ".py",
   "mimetype": "text/x-python",
   "name": "python",
   "nbconvert_exporter": "python",
   "pygments_lexer": "ipython3",
   "version": "3.11.7"
  },
  "widgets": {
   "application/vnd.jupyter.widget-state+json": {
    "state": {},
    "version_major": 2,
    "version_minor": 0
   }
  }
 },
 "nbformat": 4,
 "nbformat_minor": 5
}
