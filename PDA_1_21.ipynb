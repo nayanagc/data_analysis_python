{
 "cells": [
  {
   "cell_type": "markdown",
   "id": "d090b025-70ea-4d94-b44a-525c82701e6a",
   "metadata": {},
   "source": [
    "Basics"
   ]
  },
  {
   "cell_type": "code",
   "execution_count": 1,
   "id": "7e6f6dfc-f8fe-4522-bf4d-993e88df11cd",
   "metadata": {},
   "outputs": [
    {
     "name": "stdout",
     "output_type": "stream",
     "text": [
      "<class 'int'>\n"
     ]
    }
   ],
   "source": [
    "a = 90\n",
    "print(type(a))"
   ]
  },
  {
   "cell_type": "code",
   "execution_count": 2,
   "id": "3b2453da-0ae4-4135-8111-6316273d3a39",
   "metadata": {},
   "outputs": [
    {
     "name": "stdout",
     "output_type": "stream",
     "text": [
      "<class 'int'>\n",
      "<class 'float'>\n"
     ]
    }
   ],
   "source": [
    "a = 90\n",
    "b = 98.5\n",
    "print(type(a))\n",
    "print(type(b))"
   ]
  },
  {
   "cell_type": "code",
   "execution_count": 2,
   "id": "c30cf1d3-d926-4497-9d59-6ff455ebfb38",
   "metadata": {},
   "outputs": [
    {
     "name": "stdout",
     "output_type": "stream",
     "text": [
      "<class 'int'>\n",
      "<class 'float'>\n"
     ]
    }
   ],
   "source": [
    "a = 90\n",
    "b = 98.5\n",
    "print(type(a))\n",
    "print(type(b))"
   ]
  },
  {
   "cell_type": "code",
   "execution_count": 3,
   "id": "b63be162-6e28-4be0-af01-7c17b0376c03",
   "metadata": {},
   "outputs": [
    {
     "name": "stdout",
     "output_type": "stream",
     "text": [
      "188.5\n"
     ]
    }
   ],
   "source": [
    "print((a+b))"
   ]
  },
  {
   "cell_type": "code",
   "execution_count": 4,
   "id": "599007bd-29ba-4e1f-80da-40e5ad6e0d0f",
   "metadata": {},
   "outputs": [
    {
     "data": {
      "text/plain": [
       "str"
      ]
     },
     "execution_count": 4,
     "metadata": {},
     "output_type": "execute_result"
    }
   ],
   "source": [
    "num = \"90\"\n",
    "type(num)"
   ]
  },
  {
   "cell_type": "markdown",
   "id": "4fbdf18a-253d-40bc-9f2b-a5dcd0e4cab6",
   "metadata": {},
   "source": [
    "Membership"
   ]
  },
  {
   "cell_type": "code",
   "execution_count": 5,
   "id": "435ceffe-afed-449c-b9df-b3a3200242dd",
   "metadata": {},
   "outputs": [
    {
     "name": "stdout",
     "output_type": "stream",
     "text": [
      "False\n"
     ]
    }
   ],
   "source": [
    "lst1 = [90,67,45,23]\n",
    "print(90 not in lst1) "
   ]
  },
  {
   "cell_type": "code",
   "execution_count": 6,
   "id": "8d49dee4-9374-4a62-a5e3-d429415dfacb",
   "metadata": {},
   "outputs": [
    {
     "name": "stdout",
     "output_type": "stream",
     "text": [
      "True\n"
     ]
    }
   ],
   "source": [
    "lst1 = [90,67,45,23]\n",
    "print(90 in lst1)"
   ]
  },
  {
   "cell_type": "markdown",
   "id": "5cadad9d-2224-42de-a406-7b6840271c12",
   "metadata": {},
   "source": [
    "Functions"
   ]
  },
  {
   "cell_type": "code",
   "execution_count": 8,
   "id": "75e9002b-c91e-4bf4-9044-be633c48b44e",
   "metadata": {},
   "outputs": [],
   "source": [
    "def addition (a,b):\n",
    "    return a+b"
   ]
  },
  {
   "cell_type": "code",
   "execution_count": 9,
   "id": "f037f501-4b53-42c8-b9b3-0fe1999b584a",
   "metadata": {},
   "outputs": [
    {
     "data": {
      "text/plain": [
       "112"
      ]
     },
     "execution_count": 9,
     "metadata": {},
     "output_type": "execute_result"
    }
   ],
   "source": [
    "addition(45,67)"
   ]
  },
  {
   "cell_type": "code",
   "execution_count": 11,
   "id": "c5d44fba-d8fa-4adc-a02e-ff190818a3f1",
   "metadata": {},
   "outputs": [],
   "source": [
    "def taxcal (S,T):\n",
    "    Tax = ((T/100)*S)\n",
    "    return Tax"
   ]
  },
  {
   "cell_type": "code",
   "execution_count": 12,
   "id": "585372d5-afa5-4f6f-bdeb-7880827318cd",
   "metadata": {},
   "outputs": [
    {
     "data": {
      "text/plain": [
       "5000.0"
      ]
     },
     "execution_count": 12,
     "metadata": {},
     "output_type": "execute_result"
    }
   ],
   "source": [
    "taxcal(50000, 10)"
   ]
  },
  {
   "cell_type": "markdown",
   "id": "d219498b-7bd2-4e79-9668-a709d8702dba",
   "metadata": {},
   "source": [
    "Write a program for tax deduction:\n",
    "1.if salary is less than 10000,apply 5% tax\n",
    "2.salary is more than 10000 but less than 50000,apply 10% tax\n",
    "3.Salary is more than 50000 but less than 2,00,000 apply 15% tax\n",
    "4. If salary is more than \n"
   ]
  },
  {
   "cell_type": "code",
   "execution_count": 34,
   "id": "6f897682-7f90-47d7-924d-20a14d70c5c4",
   "metadata": {},
   "outputs": [],
   "source": [
    "def td(s):\n",
    "    if(s<=0):\n",
    "        return \"invlid\"\n",
    "    if(s<10000):\n",
    "        return s*0.05\n",
    "    elif(s>=10000 & s<50000):\n",
    "        return s*0.1\n",
    "    elif(s>=50000 & s<200000):\n",
    "        return s*0.15\n",
    "    elif(s>=200000):\n",
    "        return s*0.2\n",
    "    else:\n",
    "        return \"invalid\""
   ]
  },
  {
   "cell_type": "code",
   "execution_count": 33,
   "id": "06b6f7a6-d68a-4adf-bf0e-94f74b540cdf",
   "metadata": {},
   "outputs": [
    {
     "data": {
      "text/plain": [
       "'invlid'"
      ]
     },
     "execution_count": 33,
     "metadata": {},
     "output_type": "execute_result"
    }
   ],
   "source": [
    "td(-1)"
   ]
  },
  {
   "cell_type": "code",
   "execution_count": 70,
   "id": "5875e16b-6af1-4be4-b3fa-3be32ac4d3bb",
   "metadata": {},
   "outputs": [
    {
     "data": {
      "text/plain": [
       "10000.0"
      ]
     },
     "execution_count": 70,
     "metadata": {},
     "output_type": "execute_result"
    }
   ],
   "source": [
    "td(100000)"
   ]
  },
  {
   "cell_type": "markdown",
   "id": "449000be-3688-4d01-9737-119402971211",
   "metadata": {},
   "source": [
    "loops"
   ]
  },
  {
   "cell_type": "code",
   "execution_count": 50,
   "id": "1b2a697a-168d-4346-af39-36f833e6ba81",
   "metadata": {},
   "outputs": [
    {
     "name": "stdout",
     "output_type": "stream",
     "text": [
      "0.0026171875\n",
      "0.00279000558001116\n",
      "0.001173469387755102\n",
      "0.0029585798816568047\n"
     ]
    }
   ],
   "source": [
    "w=[67,45,23,50]\n",
    "h=[160,127,140,130]\n",
    "for i,j in zip(w,h): #zip function which iss used to two more list value iterate\n",
    "   print(i/(j**2))\n",
    "        "
   ]
  },
  {
   "cell_type": "code",
   "execution_count": 52,
   "id": "d1b935fb-15c2-410a-9612-4ef360fb26f4",
   "metadata": {},
   "outputs": [
    {
     "name": "stdout",
     "output_type": "stream",
     "text": [
      "0.0026171875\n",
      "0.00279000558001116\n",
      "0.001173469387755102\n",
      "0.0029585798816568047\n"
     ]
    }
   ],
   "source": [
    "for i in range(len(w)):\n",
    "    print((w[i])/(h[i]*h[i]))"
   ]
  },
  {
   "cell_type": "markdown",
   "id": "f8c64d9e-3154-447c-a930-8e39b76b7331",
   "metadata": {},
   "source": [
    "Numpy"
   ]
  },
  {
   "cell_type": "code",
   "execution_count": 53,
   "id": "d7e8652f-715f-4f4d-a647-b6fc5496476e",
   "metadata": {},
   "outputs": [
    {
     "name": "stdout",
     "output_type": "stream",
     "text": [
      "[1, 2, 3, 4, 5, 6, 7, 8]\n"
     ]
    }
   ],
   "source": [
    "list1=[1,2,3,4]\n",
    "list2=[5,6,7,8]\n",
    "print(list1+list2)"
   ]
  },
  {
   "cell_type": "code",
   "execution_count": 54,
   "id": "b2908425-1017-4ead-814f-c1f435a08961",
   "metadata": {},
   "outputs": [
    {
     "name": "stdout",
     "output_type": "stream",
     "text": [
      "[ 6  8 10 12]\n"
     ]
    }
   ],
   "source": [
    "import numpy as np \n",
    "a1=np.array([1,2,3,4])\n",
    "a2=np.array([5,6,7,8])\n",
    "print(a1+a2)"
   ]
  },
  {
   "cell_type": "code",
   "execution_count": 55,
   "id": "26fec862-828c-4e6a-8cea-2704980fe80c",
   "metadata": {},
   "outputs": [
    {
     "name": "stdout",
     "output_type": "stream",
     "text": [
      "[[0. 0. 0.]\n",
      " [0. 0. 0.]]\n"
     ]
    }
   ],
   "source": [
    "arr1=np.zeros((2,3))#2,3 is dimention\n",
    "print(arr1)"
   ]
  },
  {
   "cell_type": "code",
   "execution_count": 56,
   "id": "2cece365-07a9-4f30-85b9-b19356d8643d",
   "metadata": {},
   "outputs": [
    {
     "name": "stdout",
     "output_type": "stream",
     "text": [
      "[[1. 1. 1.]\n",
      " [1. 1. 1.]]\n"
     ]
    }
   ],
   "source": [
    "arr2=np.ones((2,3))\n",
    "print(arr2)"
   ]
  },
  {
   "cell_type": "code",
   "execution_count": 58,
   "id": "ac324802-3ca7-44b9-9e68-9aa3379d3370",
   "metadata": {},
   "outputs": [
    {
     "name": "stdout",
     "output_type": "stream",
     "text": [
      "[[1. 0. 0.]\n",
      " [0. 1. 0.]\n",
      " [0. 0. 1.]]\n"
     ]
    }
   ],
   "source": [
    "arr3=np.eye(3)#this works as identity matrix\n",
    "print(arr3)"
   ]
  },
  {
   "cell_type": "code",
   "execution_count": 60,
   "id": "820150db-685a-4726-b473-3db74ddc4ed1",
   "metadata": {},
   "outputs": [
    {
     "name": "stdout",
     "output_type": "stream",
     "text": [
      "[[3 4 5]\n",
      " [9 5 0]]\n",
      "2\n",
      "(2, 3)\n"
     ]
    }
   ],
   "source": [
    "arr4=np.array([[3,4,5],[9,5,0]])\n",
    "print(arr4)\n",
    "print(np.ndim(arr4))#which gives the dimention of the matrix\n",
    "print(np.shape(arr4))#gives the shape of array"
   ]
  },
  {
   "cell_type": "code",
   "execution_count": 68,
   "id": "d7419c83-d476-4dc4-8b62-8243e53f7376",
   "metadata": {},
   "outputs": [
    {
     "data": {
      "text/plain": [
       "array([[6, 7],\n",
       "       [8, 9],\n",
       "       [9, 4],\n",
       "       [2, 1]])"
      ]
     },
     "execution_count": 68,
     "metadata": {},
     "output_type": "execute_result"
    }
   ],
   "source": [
    "arr5= np.array([6,7,8,9,9,4,2,1])\n",
    "arr5=arr5.reshape(4,2)#reshape the array but original size is not modified, if we want modified we have to save/assign it.\n",
    "arr5"
   ]
  },
  {
   "cell_type": "code",
   "execution_count": 69,
   "id": "207280ef-caf0-4b54-a345-5395ba2b6340",
   "metadata": {},
   "outputs": [
    {
     "data": {
      "text/plain": [
       "array([[6, 7],\n",
       "       [8, 9],\n",
       "       [9, 4],\n",
       "       [2, 1]])"
      ]
     },
     "execution_count": 69,
     "metadata": {},
     "output_type": "execute_result"
    }
   ],
   "source": [
    "arr6= np.array([6,7,8,9,9,4,2,1])\n",
    "arr6.resize(4,2)# use to modify the original size not need to a assign \n",
    "arr6"
   ]
  },
  {
   "cell_type": "code",
   "execution_count": 72,
   "id": "ef190f6e-27e8-44b9-b080-c8ce177bedc7",
   "metadata": {},
   "outputs": [
    {
     "name": "stdout",
     "output_type": "stream",
     "text": [
      "[10 11 12 13 14 15 16 17 18 19 20 21 22 23 24 25 26 27 28 29 30 31 32 33\n",
      " 34 35 36 37 38 39 40 41 42 43 44 45 46 47 48 49]\n",
      "(40,)\n"
     ]
    }
   ],
   "source": [
    "arr7=np.arange(10,50)#arange act which bulid an array between the numbers\n",
    "print(arr7)\n",
    "print(np.shape(arr7))"
   ]
  },
  {
   "cell_type": "code",
   "execution_count": 76,
   "id": "760d12a0-5058-4ebd-a5f5-3e5570126b37",
   "metadata": {},
   "outputs": [
    {
     "name": "stdout",
     "output_type": "stream",
     "text": [
      "[[10 11 12 13 14]\n",
      " [15 16 17 18 19]\n",
      " [20 21 22 23 24]\n",
      " [25 26 27 28 29]\n",
      " [30 31 32 33 34]\n",
      " [35 36 37 38 39]\n",
      " [40 41 42 43 44]\n",
      " [45 46 47 48 49]]\n",
      "(8, 5)\n"
     ]
    }
   ],
   "source": [
    "arr7=np.arange(10,50).reshape(8,5)#this is act as bulid the array with dimnetion\n",
    "print(arr7)\n",
    "print(np.shape(arr7))"
   ]
  },
  {
   "cell_type": "code",
   "execution_count": 75,
   "id": "1bad5edf-35f5-4d57-87fe-c01e13177607",
   "metadata": {},
   "outputs": [
    {
     "name": "stdout",
     "output_type": "stream",
     "text": [
      "[   8   16   24   32   40   48   56   64   72   80   88   96  104  112\n",
      "  120  128  136  144  152  160  168  176  184  192  200  208  216  224\n",
      "  232  240  248  256  264  272  280  288  296  304  312  320  328  336\n",
      "  344  352  360  368  376  384  392  400  408  416  424  432  440  448\n",
      "  456  464  472  480  488  496  504  512  520  528  536  544  552  560\n",
      "  568  576  584  592  600  608  616  624  632  640  648  656  664  672\n",
      "  680  688  696  704  712  720  728  736  744  752  760  768  776  784\n",
      "  792  800  808  816  824  832  840  848  856  864  872  880  888  896\n",
      "  904  912  920  928  936  944  952  960  968  976  984  992 1000]\n",
      "<class 'numpy.ndarray'>\n"
     ]
    }
   ],
   "source": [
    "ar1=np.arange(8,1001,8)#start ,stop,steps\n",
    "print(ar1)\n",
    "print(type(ar1))"
   ]
  },
  {
   "cell_type": "code",
   "execution_count": 77,
   "id": "cdbf6e25-3e00-4d9d-a646-c5012753b57a",
   "metadata": {},
   "outputs": [
    {
     "name": "stdout",
     "output_type": "stream",
     "text": [
      "[  7  14  21  28  35  42  49  56  63  70  77  84  91  98 105 112 119 126\n",
      " 133 140 147 154 161 168 175 182 189 196 203 210 217 224 231 238 245 252\n",
      " 259 266 273 280 287 294 301 308 315 322 329 336 343 350 357 364 371 378\n",
      " 385 392 399 406 413 420 427 434 441 448 455 462 469 476 483 490 497 504\n",
      " 511 518 525 532 539 546 553 560 567 574 581 588 595 602 609 616 623 630\n",
      " 637 644 651 658 665 672 679 686 693 700]\n"
     ]
    }
   ],
   "source": [
    "ar2=np.arange(7,701,7)#which gives the 7 multiplication upto the 700 (strat 7 , upto 701, step/multiplication\n",
    "print(ar2)"
   ]
  },
  {
   "cell_type": "code",
   "execution_count": 79,
   "id": "77f69674-87ba-4ae0-99af-a643522a67d2",
   "metadata": {},
   "outputs": [
    {
     "name": "stdout",
     "output_type": "stream",
     "text": [
      "[2.  3.2 4.4 5.6 6.8 8. ]\n"
     ]
    }
   ],
   "source": [
    "ar3=np.linspace(2,8,6)#2--to--8 inbetween it generate the numbers by some relation with them\n",
    "print(ar3)"
   ]
  },
  {
   "cell_type": "code",
   "execution_count": 81,
   "id": "9f0a532d-9f33-49a9-8cbf-52e3c9224f9d",
   "metadata": {},
   "outputs": [
    {
     "name": "stdout",
     "output_type": "stream",
     "text": [
      "[[[1 2 3]\n",
      "  [6 7 8]]\n",
      "\n",
      " [[4 5 2]\n",
      "  [3 6 0]]]\n",
      "(2, 2, 3)\n",
      "3\n"
     ]
    }
   ],
   "source": [
    "ar4=np.array([[[1,2,3],[6,7,8]],[[4,5,2],[3,6,0]]])#each row have the two groups\n",
    "print(ar4)\n",
    "print(np.shape(ar4))#group,row,column\n",
    "print(np.ndim(ar4))#dimention of matrix 3"
   ]
  },
  {
   "cell_type": "markdown",
   "id": "b4f93958-6eda-44fe-b30a-8cf068746ebe",
   "metadata": {},
   "source": [
    "Matrix"
   ]
  },
  {
   "cell_type": "code",
   "execution_count": 103,
   "id": "dd2c8fa6-3038-4d04-9a16-8901b4e30cb4",
   "metadata": {},
   "outputs": [
    {
     "name": "stdout",
     "output_type": "stream",
     "text": [
      "matrix 1: \n",
      " [[9 4]\n",
      " [6 7]]\n",
      "matrix 2: \n",
      " [[1 2]\n",
      " [3 4]]\n"
     ]
    }
   ],
   "source": [
    "m1=np.array([9,4,6,7]).reshape(2,2)#matrix form\n",
    "m2=np.array([1,2,3,4]).reshape(2,2)\n",
    "print(\"matrix 1: \\n\",m1)\n",
    "print(\"matrix 2: \\n\",m2)"
   ]
  },
  {
   "cell_type": "code",
   "execution_count": 102,
   "id": "1ac5fe8b-1e5f-4796-9750-f1710d8ae6af",
   "metadata": {},
   "outputs": [
    {
     "name": "stdout",
     "output_type": "stream",
     "text": [
      "[[ 9  8]\n",
      " [18 28]]\n"
     ]
    }
   ],
   "source": [
    "print(m1*m2)#which give only the idex of value mutliplication"
   ]
  },
  {
   "cell_type": "code",
   "execution_count": 101,
   "id": "4411e50a-429b-4db3-b190-262c80d70808",
   "metadata": {},
   "outputs": [
    {
     "name": "stdout",
     "output_type": "stream",
     "text": [
      "[[21 34]\n",
      " [27 40]]\n"
     ]
    }
   ],
   "source": [
    "print(m1@m2)#which gives the matrix multipliaction"
   ]
  },
  {
   "cell_type": "code",
   "execution_count": 87,
   "id": "701b73b1-522a-45bf-a143-6669ec45477e",
   "metadata": {},
   "outputs": [
    {
     "name": "stdout",
     "output_type": "stream",
     "text": [
      "[[21 34]\n",
      " [27 40]]\n"
     ]
    }
   ],
   "source": [
    "print(m1.dot(m2))#the function which act as matrix multiplication"
   ]
  },
  {
   "cell_type": "code",
   "execution_count": 89,
   "id": "c1f19ed9-04bc-4f75-bfd9-1d60a8579908",
   "metadata": {},
   "outputs": [
    {
     "name": "stdout",
     "output_type": "stream",
     "text": [
      "[[1 2]\n",
      " [3 4]]\n",
      "[[-2.   1. ]\n",
      " [ 1.5 -0.5]]\n"
     ]
    }
   ],
   "source": [
    "print(m2)\n",
    "print(np.linalg.inv(m2))#inverse of the matrix"
   ]
  },
  {
   "cell_type": "markdown",
   "id": "1afc110f-f601-4c43-9444-c8e732c4a9bb",
   "metadata": {},
   "source": [
    "statistics"
   ]
  },
  {
   "cell_type": "code",
   "execution_count": 100,
   "id": "751e9f7b-ec06-435c-bea4-fb94b95cbacd",
   "metadata": {},
   "outputs": [
    {
     "name": "stdout",
     "output_type": "stream",
     "text": [
      "36.666666666666664\n"
     ]
    }
   ],
   "source": [
    "r1=np.array([90,45,34,16,23,12])\n",
    "print(np.mean(r1))#which gives the average value of array"
   ]
  },
  {
   "cell_type": "code",
   "execution_count": 99,
   "id": "c1e4d6f7-dea2-481f-baa7-32a135cded77",
   "metadata": {},
   "outputs": [
    {
     "name": "stdout",
     "output_type": "stream",
     "text": [
      "28.5\n"
     ]
    }
   ],
   "source": [
    "print(np.median(r1))#by arranging array values in ascending order and then select the median"
   ]
  },
  {
   "cell_type": "code",
   "execution_count": 98,
   "id": "476b13cc-1e53-47c3-8e64-a5ba777dd25b",
   "metadata": {},
   "outputs": [
    {
     "name": "stdout",
     "output_type": "stream",
     "text": [
      "26.278423764669668\n"
     ]
    }
   ],
   "source": [
    "print(np.std(r1))#whish give the standard value "
   ]
  },
  {
   "cell_type": "code",
   "execution_count": 97,
   "id": "2fcd91f8-c515-4f72-ae8b-20cb0355c52b",
   "metadata": {},
   "outputs": [
    {
     "name": "stdout",
     "output_type": "stream",
     "text": [
      "690.5555555555557\n"
     ]
    }
   ],
   "source": [
    "print(np.var(r1))#which give the varience "
   ]
  },
  {
   "cell_type": "markdown",
   "id": "26674601-a751-403a-a589-bd2cedc9dae5",
   "metadata": {},
   "source": [
    "Trignometricz"
   ]
  },
  {
   "cell_type": "code",
   "execution_count": 94,
   "id": "6af43631-ba8e-4651-85e6-5bac3c014c1d",
   "metadata": {},
   "outputs": [
    {
     "name": "stdout",
     "output_type": "stream",
     "text": [
      "3.141592653589793\n"
     ]
    }
   ],
   "source": [
    "print(np.pi)"
   ]
  },
  {
   "cell_type": "code",
   "execution_count": 96,
   "id": "ce0a8c59-2c1d-4761-a8e1-9eb2e63efdca",
   "metadata": {},
   "outputs": [
    {
     "name": "stdout",
     "output_type": "stream",
     "text": [
      "0.8939966636005579\n",
      "-0.9880316240928618\n",
      "0.8509035245341184\n"
     ]
    }
   ],
   "source": [
    "rad=[90,30,45]\n",
    "for i in rad:\n",
    "    print(np.sin(i))#which gives the radian values of it"
   ]
  },
  {
   "cell_type": "code",
   "execution_count": 104,
   "id": "04b1d804-564b-4b9f-9619-669694709205",
   "metadata": {},
   "outputs": [
    {
     "name": "stdout",
     "output_type": "stream",
     "text": [
      "0.7071067811865476\n",
      "1.0\n",
      "0.8660254037844386\n"
     ]
    }
   ],
   "source": [
    "deg=[np.pi/4,np.pi/2,np.pi/3]\n",
    "for i in deg:\n",
    "    print(np.sin(i))"
   ]
  },
  {
   "cell_type": "code",
   "execution_count": 2,
   "id": "52be5a4a-398f-40b3-aa7f-8f84524cf987",
   "metadata": {},
   "outputs": [
    {
     "name": "stdout",
     "output_type": "stream",
     "text": [
      "10.0\n"
     ]
    }
   ],
   "source": [
    "import numpy as np\n",
    "print(np.hypot(6,8))"
   ]
  },
  {
   "cell_type": "markdown",
   "id": "08f2421e-13e3-4d0b-88f2-cf81dd504e9f",
   "metadata": {},
   "source": [
    "Arthmatic operation"
   ]
  },
  {
   "cell_type": "code",
   "execution_count": 10,
   "id": "72546754-8a7a-4fca-ac72-3511875cd5d1",
   "metadata": {},
   "outputs": [
    {
     "name": "stdout",
     "output_type": "stream",
     "text": [
      "33\n"
     ]
    }
   ],
   "source": [
    "a=np.array([8,9,1])\n",
    "b=np.array([2,5,8])\n",
    "print(np.sum((a,b))) #sum of both array"
   ]
  },
  {
   "cell_type": "code",
   "execution_count": 4,
   "id": "8ba0a0fd-7045-462a-866b-1472609aca95",
   "metadata": {},
   "outputs": [
    {
     "name": "stdout",
     "output_type": "stream",
     "text": [
      "[ 8 17 18]\n"
     ]
    }
   ],
   "source": [
    "print(np.cumsum(a))"
   ]
  },
  {
   "cell_type": "code",
   "execution_count": 11,
   "id": "8f059f21-9729-46c5-bc9b-4e902bed5188",
   "metadata": {},
   "outputs": [
    {
     "name": "stdout",
     "output_type": "stream",
     "text": [
      "[[ 1  2  3]\n",
      " [ 7  9  6]\n",
      " [16 10 12]]\n"
     ]
    }
   ],
   "source": [
    "c=np.array([[1,2,3],[6,7,3],[9,1,6]])#sum of array works like 1,1+6,1+6+9 = 1,7,16 as we see in output\n",
    "print(np.cumsum(c,axis=0))#column wise axis =0"
   ]
  },
  {
   "cell_type": "code",
   "execution_count": 12,
   "id": "ef942a13-476b-4720-96bd-f035c98c8046",
   "metadata": {},
   "outputs": [
    {
     "name": "stdout",
     "output_type": "stream",
     "text": [
      "[[ 1  3  6]\n",
      " [ 6 13 16]\n",
      " [ 9 10 16]]\n"
     ]
    }
   ],
   "source": [
    "c=np.array([[1,2,3],[6,7,3],[9,1,6]])#sum of array works 1,1+2,1+2+3= 1,3,6 as we see in output\n",
    "print(np.cumsum(c,axis=1))#row wise axis =1"
   ]
  },
  {
   "cell_type": "code",
   "execution_count": 13,
   "id": "a6546f23-158a-4af0-99a8-b6bd6ab52dcd",
   "metadata": {},
   "outputs": [
    {
     "name": "stdout",
     "output_type": "stream",
     "text": [
      "5760\n"
     ]
    }
   ],
   "source": [
    "print(np.prod((a,b)))#similarly we can do for productive "
   ]
  },
  {
   "cell_type": "code",
   "execution_count": 14,
   "id": "12f83d93-4f7e-4a7d-b53f-5822ebe54054",
   "metadata": {},
   "outputs": [
    {
     "name": "stdout",
     "output_type": "stream",
     "text": [
      "[    1     2     6    36   252   756  6804  6804 40824]\n"
     ]
    }
   ],
   "source": [
    "print(np.cumprod(c))#product of array in order"
   ]
  },
  {
   "cell_type": "code",
   "execution_count": 15,
   "id": "f2ba559e-edab-4082-8c54-b1250034f6c0",
   "metadata": {},
   "outputs": [
    {
     "name": "stdout",
     "output_type": "stream",
     "text": [
      "[[ 1  2  3]\n",
      " [ 6 14  9]\n",
      " [54 14 54]]\n"
     ]
    }
   ],
   "source": [
    "print(np.cumprod(c,axis=0))#product of array in colunm wise "
   ]
  },
  {
   "cell_type": "code",
   "execution_count": 17,
   "id": "7eb5a7aa-7986-4b31-9f5f-4459e3e3ef6f",
   "metadata": {},
   "outputs": [
    {
     "name": "stdout",
     "output_type": "stream",
     "text": [
      "[[  1   2   6]\n",
      " [  6  42 126]\n",
      " [  9   9  54]]\n"
     ]
    }
   ],
   "source": [
    "print(np.cumprod(c,axis=1))#product of array in row wise "
   ]
  },
  {
   "cell_type": "code",
   "execution_count": 20,
   "id": "50a505e4-b481-4959-a0c6-3c370514d0be",
   "metadata": {},
   "outputs": [
    {
     "name": "stdout",
     "output_type": "stream",
     "text": [
      "[0 1 7 2]\n"
     ]
    }
   ],
   "source": [
    "s1=np.array([90,23,40,12])\n",
    "s2=np.array([10,2,11,5])\n",
    "print(np.mod(s1,s2))"
   ]
  },
  {
   "cell_type": "code",
   "execution_count": 23,
   "id": "98fca4e3-d692-49a2-99b0-6ce6e57b91a5",
   "metadata": {},
   "outputs": [
    {
     "name": "stdout",
     "output_type": "stream",
     "text": [
      "(array([ 9, 11,  3,  2]), array([0, 1, 7, 2]))\n"
     ]
    }
   ],
   "source": [
    "print(np.divmod(s1,s2))#1st arrray = qoucitent 2nd array=remainder"
   ]
  },
  {
   "cell_type": "markdown",
   "id": "753b67d6-b7c5-4f40-8921-acf279da3971",
   "metadata": {},
   "source": [
    "UFunc #universal function "
   ]
  },
  {
   "cell_type": "code",
   "execution_count": 25,
   "id": "407a44c4-7970-4eb5-bcbb-389841a4ca38",
   "metadata": {},
   "outputs": [
    {
     "name": "stdout",
     "output_type": "stream",
     "text": [
      "111\n"
     ]
    }
   ],
   "source": [
    "A=np.array([56,78,12,32,111,109])\n",
    "print(max(A))#gives max "
   ]
  },
  {
   "cell_type": "code",
   "execution_count": 32,
   "id": "2daafddd-1239-4cee-844e-c8c0c76e044a",
   "metadata": {},
   "outputs": [
    {
     "name": "stdout",
     "output_type": "stream",
     "text": [
      "like\n"
     ]
    }
   ],
   "source": [
    "A=np.array([56,78,12,32,111,\"like\"])\n",
    "print(max(A))#comparing with ASCII values"
   ]
  },
  {
   "cell_type": "code",
   "execution_count": 33,
   "id": "02e62288-2266-4b37-8fea-2ba1ec80a43d",
   "metadata": {},
   "outputs": [
    {
     "name": "stdout",
     "output_type": "stream",
     "text": [
      "12\n"
     ]
    }
   ],
   "source": [
    "A=np.array([56,78,12,32,111,109])\n",
    "print(min(A))#gives the min value"
   ]
  },
  {
   "cell_type": "markdown",
   "id": "88446f2f-3509-492b-9fe7-53ce338b7d9b",
   "metadata": {},
   "source": [
    "sorting"
   ]
  },
  {
   "cell_type": "code",
   "execution_count": 31,
   "id": "c4829f6b-a23d-43d4-98d7-5e45325618be",
   "metadata": {},
   "outputs": [
    {
     "name": "stdout",
     "output_type": "stream",
     "text": [
      "[ 1 12 45 89 90 98]\n"
     ]
    }
   ],
   "source": [
    "B=np.array([90,12,45,1,89,98])\n",
    "B.sort()#which does effect the original array by sorting\n",
    "print(B)"
   ]
  },
  {
   "cell_type": "code",
   "execution_count": 30,
   "id": "2f2434e2-ece0-47ea-89d4-ba640ba18765",
   "metadata": {},
   "outputs": [
    {
     "name": "stdout",
     "output_type": "stream",
     "text": [
      "[90 12 45  1 89 98]\n",
      "[1, 12, 45, 89, 90, 98]\n"
     ]
    }
   ],
   "source": [
    "C=np.array([90,12,45,1,89,98])\n",
    "D=sorted(C)#which doesnot effect the original array by sorting by assinging it \n",
    "print(C)\n",
    "print(D)"
   ]
  },
  {
   "cell_type": "markdown",
   "id": "bc5d0347-887a-4f5b-9da2-e276191a9758",
   "metadata": {},
   "source": [
    "rounding"
   ]
  },
  {
   "cell_type": "code",
   "execution_count": 37,
   "id": "46fadf7a-a58b-488d-a3ff-94223d610470",
   "metadata": {},
   "outputs": [
    {
     "name": "stdout",
     "output_type": "stream",
     "text": [
      "[10. -7.]\n"
     ]
    }
   ],
   "source": [
    "s2=np.array([9.1,-7.8])\n",
    "print(np.ceil(s2))#which give roundup of greatest"
   ]
  },
  {
   "cell_type": "code",
   "execution_count": 36,
   "id": "7533a6c8-900a-4906-9c83-d835dc5712a7",
   "metadata": {},
   "outputs": [
    {
     "name": "stdout",
     "output_type": "stream",
     "text": [
      "[ 9. -8.]\n"
     ]
    }
   ],
   "source": [
    "print(np.floor(s2))#which give roundup of smallest"
   ]
  },
  {
   "cell_type": "markdown",
   "id": "25e2eb9a-c3a2-4d0d-81a7-0246d73839cd",
   "metadata": {},
   "source": [
    "random module"
   ]
  },
  {
   "cell_type": "code",
   "execution_count": 38,
   "id": "14229d59-08f0-4f7d-97c5-a605e2db48cf",
   "metadata": {},
   "outputs": [],
   "source": [
    "import numpy.random as rd#which generates the random numbers "
   ]
  },
  {
   "cell_type": "code",
   "execution_count": 39,
   "id": "c63dbad0-870e-4e73-a037-3e41f34485e3",
   "metadata": {},
   "outputs": [
    {
     "name": "stdout",
     "output_type": "stream",
     "text": [
      "0.8802052740717733\n"
     ]
    }
   ],
   "source": [
    "ran1=rd.rand()#range between 0 to 1\n",
    "print(ran1)"
   ]
  },
  {
   "cell_type": "code",
   "execution_count": 41,
   "id": "471b610c-7f86-4adc-8431-b4ae1982c073",
   "metadata": {},
   "outputs": [
    {
     "name": "stdout",
     "output_type": "stream",
     "text": [
      "4\n"
     ]
    }
   ],
   "source": [
    "ran=rd.randint(5)#range between 0 to 5\n",
    "print(ran)"
   ]
  },
  {
   "cell_type": "code",
   "execution_count": 43,
   "id": "ac84f2d1-3b44-43a3-bcd9-6ac536df3316",
   "metadata": {},
   "outputs": [
    {
     "name": "stdout",
     "output_type": "stream",
     "text": [
      "[1 2 1 0 4 3]\n"
     ]
    }
   ],
   "source": [
    "ran3=rd.randint(5,size=(6))#range between 0 to 5 with  limits ,size\n",
    "print(ran3)"
   ]
  },
  {
   "cell_type": "code",
   "execution_count": 44,
   "id": "0e20e890-45c7-48f8-bda7-90eb98b403e3",
   "metadata": {},
   "outputs": [
    {
     "name": "stdout",
     "output_type": "stream",
     "text": [
      "[[2 3]\n",
      " [4 2]\n",
      " [4 3]\n",
      " [0 3]\n",
      " [3 2]\n",
      " [4 4]]\n"
     ]
    }
   ],
   "source": [
    "ran3=rd.randint(5,size=(6,2))#range between 0 to 5 with limit size (group ,row )\n",
    "print(ran3)"
   ]
  },
  {
   "cell_type": "code",
   "execution_count": 46,
   "id": "e0a76367-f01e-4f1f-ad46-85adb6391b47",
   "metadata": {},
   "outputs": [
    {
     "name": "stdout",
     "output_type": "stream",
     "text": [
      "[[[1 4 1]\n",
      "  [3 0 0]]\n",
      "\n",
      " [[3 4 1]\n",
      "  [1 2 1]]\n",
      "\n",
      " [[4 0 3]\n",
      "  [0 1 4]]\n",
      "\n",
      " [[2 2 0]\n",
      "  [1 1 0]]\n",
      "\n",
      " [[3 3 3]\n",
      "  [4 3 0]]\n",
      "\n",
      " [[3 1 1]\n",
      "  [0 1 2]]]\n"
     ]
    }
   ],
   "source": [
    "ran3=rd.randint(5,size=(6,2,3))#range between 0 to 5 with limit size (group ,row,column )\n",
    "print(ran3)"
   ]
  },
  {
   "cell_type": "code",
   "execution_count": null,
   "id": "2620879a-d0b0-43e2-829f-48a87a0b0e98",
   "metadata": {},
   "outputs": [],
   "source": []
  }
 ],
 "metadata": {
  "kernelspec": {
   "display_name": "Python 3 (ipykernel)",
   "language": "python",
   "name": "python3"
  },
  "language_info": {
   "codemirror_mode": {
    "name": "ipython",
    "version": 3
   },
   "file_extension": ".py",
   "mimetype": "text/x-python",
   "name": "python",
   "nbconvert_exporter": "python",
   "pygments_lexer": "ipython3",
   "version": "3.11.7"
  },
  "widgets": {
   "application/vnd.jupyter.widget-state+json": {
    "state": {},
    "version_major": 2,
    "version_minor": 0
   }
  }
 },
 "nbformat": 4,
 "nbformat_minor": 5
}
